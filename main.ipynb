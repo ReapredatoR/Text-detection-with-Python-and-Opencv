{
 "cells": [
  {
   "cell_type": "markdown",
   "metadata": {},
   "source": [
    "Importing Packages "
   ]
  },
  {
   "cell_type": "code",
   "execution_count": 3,
   "metadata": {},
   "outputs": [],
   "source": [
    "import cv2\n",
    "import easyocr\n",
    "import matplotlib.pyplot as plt\n",
    "import numpy as np"
   ]
  },
  {
   "cell_type": "markdown",
   "metadata": {},
   "source": [
    "Read Image using Open CV"
   ]
  },
  {
   "cell_type": "code",
   "execution_count": 4,
   "metadata": {},
   "outputs": [],
   "source": [
    "image_path = 'images/1.jpg'\n",
    "\n",
    "img = cv2.imread(image_path)"
   ]
  },
  {
   "cell_type": "markdown",
   "metadata": {},
   "source": [
    "Text Detector Instance "
   ]
  },
  {
   "cell_type": "code",
   "execution_count": 6,
   "metadata": {},
   "outputs": [],
   "source": [
    "reader = easyocr.Reader(['en'], gpu=True)"
   ]
  },
  {
   "cell_type": "markdown",
   "metadata": {},
   "source": [
    "Detecting the text and assigning those values "
   ]
  },
  {
   "cell_type": "code",
   "execution_count": 7,
   "metadata": {},
   "outputs": [],
   "source": [
    "text = reader.readtext(img)"
   ]
  },
  {
   "cell_type": "markdown",
   "metadata": {},
   "source": [
    "Results:"
   ]
  },
  {
   "cell_type": "code",
   "execution_count": 8,
   "metadata": {},
   "outputs": [
    {
     "name": "stdout",
     "output_type": "stream",
     "text": [
      "([[806, 207], [1200, 207], [1200, 377], [806, 377]], 'RUN', 0.9999123168084034)\n",
      "([[805, 351], [1205, 351], [1205, 507], [805, 507]], 'LIKE', 0.9997478723526001)\n",
      "([[804, 490], [1202, 490], [1202, 616], [804, 616]], 'RYAN', 0.9998633861541748)\n",
      "([[797, 601], [1207, 601], [1207, 691], [797, 691]], 'GOSLING', 0.9758260830652968)\n",
      "([[792, 675], [1204, 675], [1204, 749], [792, 749]], 'IS WAITING', 0.9272099590550055)\n",
      "([[798, 737], [1203, 737], [1203, 825], [798, 825]], 'FOR YOU', 0.9962953978868222)\n",
      "([[800, 812], [1204, 812], [1204, 916], [800, 916]], 'AT THE', 0.9870968242580715)\n",
      "([[794, 902], [1206, 902], [1206, 974], [794, 974]], 'FINISH LINE', 0.7850330860390764)\n",
      "([[795, 965], [1203, 965], [1203, 1027], [795, 1027]], '(WITH A PUPPY)', 0.7353556046842408)\n"
     ]
    }
   ],
   "source": [
    "for t in text:\n",
    "    print(t)"
   ]
  },
  {
   "cell_type": "markdown",
   "metadata": {},
   "source": []
  }
 ],
 "metadata": {
  "kernelspec": {
   "display_name": "Python 3",
   "language": "python",
   "name": "python3"
  },
  "language_info": {
   "codemirror_mode": {
    "name": "ipython",
    "version": 3
   },
   "file_extension": ".py",
   "mimetype": "text/x-python",
   "name": "python",
   "nbconvert_exporter": "python",
   "pygments_lexer": "ipython3",
   "version": "3.11.6"
  }
 },
 "nbformat": 4,
 "nbformat_minor": 2
}
